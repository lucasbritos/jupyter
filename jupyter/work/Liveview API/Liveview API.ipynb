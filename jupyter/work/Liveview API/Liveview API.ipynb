{
 "cells": [
  {
   "cell_type": "code",
   "execution_count": 523,
   "metadata": {},
   "outputs": [],
   "source": [
    "# Import PacketLogic DB API\n",
    "import packetlogic2\n",
    "import re"
   ]
  },
  {
   "cell_type": "code",
   "execution_count": 524,
   "metadata": {},
   "outputs": [],
   "source": [
    "input_hosts = [\"192.168.10.67\"]\n",
    "input_credentials = {\n",
    "  \"login\": \"monitoring\",\n",
    "  \"pwd\": \"pldemo00\"\n",
    "}\n",
    "\n",
    "input_services = ['YouTube','YouTube Web'] \n"
   ]
  },
  {
   "cell_type": "code",
   "execution_count": 525,
   "metadata": {},
   "outputs": [],
   "source": [
    "## Open conection to all servers\n",
    "\n",
    "servers = []\n",
    "for k in range(len(hosts)):\n",
    "    p = packetlogic2.connect(input_hosts[k], input_credentials[\"login\"], input_credentials[\"pwd\"])\n",
    "    name = p.SystemOverview().system_list()[0].name\n",
    "    servers.append([p,name])\n",
    "\n",
    "\n",
    "\n"
   ]
  },
  {
   "cell_type": "code",
   "execution_count": 526,
   "metadata": {},
   "outputs": [],
   "source": [
    "data = []\n",
    "for s in servers:\n",
    "    # call Realtime method\n",
    "    rt = s[0].Realtime()\n",
    "    # gather & filter services\n",
    "    getServicesData = rt.get_services_data()\n",
    "    services = dict(filter(lambda serv: serv[0] in input_services, getServicesData.items()))\n",
    "    for serv in services:\n",
    "        #print serv\n",
    "        row = {}\n",
    "        row['fields'] = services[serv]\n",
    "        row['tags'] = {'service':serv,'device':s[1]}\n",
    "        data.append(row)"
   ]
  },
  {
   "cell_type": "code",
   "execution_count": 527,
   "metadata": {},
   "outputs": [
    {
     "name": "stdout",
     "output_type": "stream",
     "text": [
      "[{'fields': {'connections': 6L, 'speed_in': 224L, 'speed_out': 728L}, 'tags': {'device': 'vPRE1', 'service': 'YouTube Web'}}, {'fields': {'connections': 5L, 'speed_in': 623000L, 'speed_out': 4408L}, 'tags': {'device': 'vPRE1', 'service': 'YouTube'}}]\n"
     ]
    }
   ],
   "source": [
    "print data"
   ]
  },
  {
   "cell_type": "code",
   "execution_count": null,
   "metadata": {},
   "outputs": [],
   "source": []
  }
 ],
 "metadata": {
  "kernelspec": {
   "display_name": "Python [conda env:env_py2]",
   "language": "python",
   "name": "conda-env-env_py2-py"
  },
  "language_info": {
   "codemirror_mode": {
    "name": "ipython",
    "version": 2
   },
   "file_extension": ".py",
   "mimetype": "text/x-python",
   "name": "python",
   "nbconvert_exporter": "python",
   "pygments_lexer": "ipython2",
   "version": "2.7.15"
  }
 },
 "nbformat": 4,
 "nbformat_minor": 2
}
